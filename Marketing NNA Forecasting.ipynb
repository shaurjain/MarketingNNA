{
 "cells": [
  {
   "cell_type": "code",
   "execution_count": 1,
   "metadata": {},
   "outputs": [],
   "source": [
    "import pandas as pd\n",
    "from sklearn.linear_model import LinearRegression, Lasso\n",
    "from sklearn.model_selection import cross_val_score\n",
    "import numpy as np\n",
    "from matplotlib import pyplot as plt\n",
    "from sklearn.ensemble import RandomForestRegressor\n",
    "from sklearn.model_selection import GridSearchCV\n",
    "from matplotlib import pyplot\n",
    "import seaborn as sns"
   ]
  },
  {
   "cell_type": "code",
   "execution_count": 7,
   "metadata": {},
   "outputs": [
    {
     "data": {
      "text/plain": [
       "Index(['Month', 'Sub Market L1', 'Country Code', 'Country', 'd_budget_type',\n",
       "       'd_key_budgettype', 'BU Name', 'Campaign', 'Platform', 'd_placement',\n",
       "       'Impressions', 'Clicks', 'Spend', 'Cons SU', 'Cons NNA', 'Merc SU',\n",
       "       'Merc NNA', 'Total SU', 'Total NNA'],\n",
       "      dtype='object')"
      ]
     },
     "execution_count": 7,
     "metadata": {},
     "output_type": "execute_result"
    }
   ],
   "source": [
    "data.columns"
   ]
  },
  {
   "cell_type": "code",
   "execution_count": 3,
   "metadata": {},
   "outputs": [
    {
     "data": {
      "text/plain": [
       "array(['Google Adwords', 'DV360', 'TWITCH', 'YOUTUBE',\n",
       "       'Facebook / Instagram', 'LinkedIn', 'GDN', 'The Trade Desk',\n",
       "       'VERIZON MEDIA GROUP', '-', 'Outbrain', 'INSTAGRAM', 'Microad',\n",
       "       'Google Adwords UAC', 'Twitter', 'LiveIntent', 'Yahoo', 'Web.de',\n",
       "       'Apple Search'], dtype=object)"
      ]
     },
     "execution_count": 3,
     "metadata": {},
     "output_type": "execute_result"
    }
   ],
   "source": [
    "data[\"Platform\"].unique()"
   ]
  },
  {
   "cell_type": "code",
   "execution_count": 8,
   "metadata": {},
   "outputs": [
    {
     "data": {
      "text/plain": [
       "array(['Google Adwords', 'DV360', 'TWITCH', 'YOUTUBE',\n",
       "       'Facebook / Instagram', 'LinkedIn', 'GDN', 'The Trade Desk',\n",
       "       'VERIZON MEDIA GROUP', '-', 'Outbrain', 'Microad', 'Twitter',\n",
       "       'LiveIntent', 'Yahoo', 'Web.de', 'Apple Search'], dtype=object)"
      ]
     },
     "execution_count": 8,
     "metadata": {},
     "output_type": "execute_result"
    }
   ],
   "source": [
    "def change_insta(platform):\n",
    "    if platform == \"Google Adwords UAC\":\n",
    "        return \"Google Adwords\"\n",
    "    if platform == \"INSTAGRAM\":\n",
    "        return \"Facebook / Instagram\"\n",
    "    return platform\n",
    "    \n",
    "    \n",
    "data[\"Platform\"] = data[\"Platform\"].apply(change_insta)\n",
    "data[\"Platform\"].unique()"
   ]
  },
  {
   "cell_type": "code",
   "execution_count": 9,
   "metadata": {
    "scrolled": true
   },
   "outputs": [
    {
     "data": {
      "text/plain": [
       "5613"
      ]
     },
     "execution_count": 9,
     "metadata": {},
     "output_type": "execute_result"
    }
   ],
   "source": [
    "len(data[data[\"Platform\"] == \"-\"])"
   ]
  },
  {
   "cell_type": "code",
   "execution_count": 10,
   "metadata": {},
   "outputs": [],
   "source": [
    "data['Platform'] = np.where( data['d_placement'].str.contains(\"NKW\"),  \"NAVER\",data['Platform'])\n",
    "data['Platform'] = np.where( data['d_placement'].str.contains(\"NAVER\"),  \"NAVER\",data['Platform'])\n",
    "data['Platform'] = np.where( data['Campaign'].str.contains(\"GOOGLEUACHK\"),  \"Google Adwords\",data['Platform'])\n",
    "data['Platform'] = np.where( data['Campaign'].str.contains(\"GUMGUM\"),  \"GumGum\",data['Platform'])\n",
    "data['Platform'] = np.where( data['Platform']== \"-\",  \"SEM\",data['Platform'])"
   ]
  },
  {
   "cell_type": "code",
   "execution_count": 11,
   "metadata": {},
   "outputs": [
    {
     "data": {
      "text/plain": [
       "0"
      ]
     },
     "execution_count": 11,
     "metadata": {},
     "output_type": "execute_result"
    }
   ],
   "source": [
    "len(data[data[\"Platform\"] == \"-\"])"
   ]
  },
  {
   "cell_type": "code",
   "execution_count": 12,
   "metadata": {},
   "outputs": [
    {
     "data": {
      "text/html": [
       "<div>\n",
       "<style scoped>\n",
       "    .dataframe tbody tr th:only-of-type {\n",
       "        vertical-align: middle;\n",
       "    }\n",
       "\n",
       "    .dataframe tbody tr th {\n",
       "        vertical-align: top;\n",
       "    }\n",
       "\n",
       "    .dataframe thead th {\n",
       "        text-align: right;\n",
       "    }\n",
       "</style>\n",
       "<table border=\"1\" class=\"dataframe\">\n",
       "  <thead>\n",
       "    <tr style=\"text-align: right;\">\n",
       "      <th></th>\n",
       "      <th>Country</th>\n",
       "      <th>Platform</th>\n",
       "      <th>Spend</th>\n",
       "      <th>Total NNA</th>\n",
       "    </tr>\n",
       "  </thead>\n",
       "  <tbody>\n",
       "    <tr>\n",
       "      <th>0</th>\n",
       "      <td>Anguilla</td>\n",
       "      <td>Google Adwords</td>\n",
       "      <td>2.06</td>\n",
       "      <td>4.0</td>\n",
       "    </tr>\n",
       "    <tr>\n",
       "      <th>1</th>\n",
       "      <td>Antigua And Barbuda</td>\n",
       "      <td>Google Adwords</td>\n",
       "      <td>42.38</td>\n",
       "      <td>13.0</td>\n",
       "    </tr>\n",
       "    <tr>\n",
       "      <th>2</th>\n",
       "      <td>Argentina</td>\n",
       "      <td>DV360</td>\n",
       "      <td>7907.68</td>\n",
       "      <td>80.0</td>\n",
       "    </tr>\n",
       "    <tr>\n",
       "      <th>3</th>\n",
       "      <td>Argentina</td>\n",
       "      <td>Google Adwords</td>\n",
       "      <td>10879.50</td>\n",
       "      <td>1335.0</td>\n",
       "    </tr>\n",
       "    <tr>\n",
       "      <th>4</th>\n",
       "      <td>Aruba</td>\n",
       "      <td>Google Adwords</td>\n",
       "      <td>31.81</td>\n",
       "      <td>31.0</td>\n",
       "    </tr>\n",
       "  </tbody>\n",
       "</table>\n",
       "</div>"
      ],
      "text/plain": [
       "               Country        Platform     Spend  Total NNA\n",
       "0             Anguilla  Google Adwords      2.06        4.0\n",
       "1  Antigua And Barbuda  Google Adwords     42.38       13.0\n",
       "2            Argentina           DV360   7907.68       80.0\n",
       "3            Argentina  Google Adwords  10879.50     1335.0\n",
       "4                Aruba  Google Adwords     31.81       31.0"
      ]
     },
     "execution_count": 12,
     "metadata": {},
     "output_type": "execute_result"
    }
   ],
   "source": [
    "data_trimmed = data[[\"Month\",\"Country\", \"Spend\",\"Platform\", \"Total NNA\"]]\n",
    "aggregate_data =data_trimmed.groupby([\"Month\",\"Country\",\"Platform\"]).sum()\n",
    "aggregate_data = aggregate_data.reset_index()\n",
    "aggregate_data = aggregate_data.drop(\"Month\",1)\n",
    "aggregate_data.head()"
   ]
  },
  {
   "cell_type": "code",
   "execution_count": 9,
   "metadata": {},
   "outputs": [],
   "source": [
    "df_dum = pd.get_dummies(aggregate_data)\n",
    "X= df_dum.drop(\"Total NNA\", 1)\n",
    "y = df_dum[\"Total NNA\"].values"
   ]
  },
  {
   "cell_type": "markdown",
   "metadata": {},
   "source": [
    "#### Multiple Linear Regression"
   ]
  },
  {
   "cell_type": "code",
   "execution_count": 10,
   "metadata": {},
   "outputs": [
    {
     "data": {
      "text/plain": [
       "-1118.4926648428461"
      ]
     },
     "execution_count": 10,
     "metadata": {},
     "output_type": "execute_result"
    }
   ],
   "source": [
    "lm = LinearRegression()\n",
    "np.mean(cross_val_score(lm, X, y, scoring= \"neg_mean_absolute_error\", cv= 5))"
   ]
  },
  {
   "cell_type": "code",
   "execution_count": 11,
   "metadata": {},
   "outputs": [
    {
     "data": {
      "text/plain": [
       "LinearRegression(copy_X=True, fit_intercept=True, n_jobs=None, normalize=False)"
      ]
     },
     "execution_count": 11,
     "metadata": {},
     "output_type": "execute_result"
    }
   ],
   "source": [
    "lm_final = LinearRegression()\n",
    "lm_final.fit(X,y)"
   ]
  },
  {
   "cell_type": "code",
   "execution_count": 12,
   "metadata": {},
   "outputs": [
    {
     "data": {
      "text/plain": [
       "array([ 1.96922867e-02, -9.13091197e+02, -9.07843955e+02,  7.74799488e+02,\n",
       "       -8.97321000e+02, -9.15208251e+02,  4.51946653e+03, -6.39786016e+02,\n",
       "       -9.05235886e+02,  1.38350105e+03,  2.17389201e+02,  4.17874539e+02,\n",
       "       -4.85441107e+02, -6.02315295e+02, -4.14362487e+02, -4.21413377e+01,\n",
       "       -9.07119542e+02, -4.69242722e+02,  1.27240406e+02, -7.24777563e+02,\n",
       "        3.95982935e+01, -4.72126554e+02, -7.66574501e+02, -3.37308792e+02,\n",
       "       -1.42877919e+01,  5.36222234e+02,  1.07153405e+03,  2.51694821e+02,\n",
       "       -8.30118997e+02,  2.90649984e+02,  3.97320110e+02, -1.04118815e+02,\n",
       "        4.80532886e+02,  3.86372127e+03, -8.27949909e+02, -9.06683284e+02,\n",
       "       -7.57895882e+02, -8.37739659e+02,  9.68091277e+02,  1.71604794e+03,\n",
       "        1.83269054e+02, -7.77931738e+02,  1.98920630e+02,  3.27015505e+02,\n",
       "       -9.00781245e+02,  1.18426795e+02, -5.63801245e+02, -2.11895622e+02,\n",
       "       -6.37673283e+02, -1.40848750e+02,  9.31981240e+01, -2.38072969e+01,\n",
       "       -5.69673172e+02,  5.28588709e+02,  8.55267459e+02, -6.58518089e+02,\n",
       "        1.08140476e+03,  1.40102484e+03,  1.56316301e+03,  3.57344618e+02,\n",
       "       -4.02687972e+02, -3.21572667e+03,  2.50868070e+02,  5.99863683e+02,\n",
       "        7.55612656e+01,  1.03624588e+01, -1.25533060e+03,  3.82831006e+02,\n",
       "       -1.53640983e+03,  8.25949935e+02,  9.85303393e+02, -1.95094830e+03,\n",
       "        6.30676970e+02])"
      ]
     },
     "execution_count": 12,
     "metadata": {},
     "output_type": "execute_result"
    }
   ],
   "source": [
    "lm_final.coef_"
   ]
  },
  {
   "cell_type": "markdown",
   "metadata": {},
   "source": [
    "#### Lasso Regression"
   ]
  },
  {
   "cell_type": "code",
   "execution_count": 13,
   "metadata": {},
   "outputs": [
    {
     "data": {
      "text/plain": [
       "-1116.8402437560596"
      ]
     },
     "execution_count": 13,
     "metadata": {},
     "output_type": "execute_result"
    }
   ],
   "source": [
    "lm_lasso = Lasso()\n",
    "np.mean(cross_val_score(lm_lasso, X, y, scoring= \"neg_mean_absolute_error\", cv= 5))"
   ]
  },
  {
   "cell_type": "code",
   "execution_count": 14,
   "metadata": {},
   "outputs": [],
   "source": [
    "alpha = []\n",
    "error = []\n",
    "for i in range(1,1000):\n",
    "    alpha.append(i/100)\n",
    "    lm_las = Lasso(alpha = (i/100),max_iter=100000)\n",
    "    error.append(np.mean(cross_val_score(lm_las, X, y, scoring= \"neg_mean_absolute_error\", cv= 5)))"
   ]
  },
  {
   "cell_type": "code",
   "execution_count": 15,
   "metadata": {},
   "outputs": [
    {
     "data": {
      "text/plain": [
       "[<matplotlib.lines.Line2D at 0x1a23599cd0>]"
      ]
     },
     "execution_count": 15,
     "metadata": {},
     "output_type": "execute_result"
    },
    {
     "data": {
      "image/png": "[encoded data removed]",
      "text/plain": [
       "<Figure size 432x288 with 1 Axes>"
      ]
     },
     "metadata": {
      "needs_background": "light"
     },
     "output_type": "display_data"
    }
   ],
   "source": [
    "err = tuple(zip(alpha, error))\n",
    "plt.plot(alpha,error)"
   ]
  },
  {
   "cell_type": "code",
   "execution_count": 16,
   "metadata": {},
   "outputs": [
    {
     "data": {
      "text/html": [
       "<div>\n",
       "<style scoped>\n",
       "    .dataframe tbody tr th:only-of-type {\n",
       "        vertical-align: middle;\n",
       "    }\n",
       "\n",
       "    .dataframe tbody tr th {\n",
       "        vertical-align: top;\n",
       "    }\n",
       "\n",
       "    .dataframe thead th {\n",
       "        text-align: right;\n",
       "    }\n",
       "</style>\n",
       "<table border=\"1\" class=\"dataframe\">\n",
       "  <thead>\n",
       "    <tr style=\"text-align: right;\">\n",
       "      <th></th>\n",
       "      <th>alpha</th>\n",
       "      <th>error</th>\n",
       "    </tr>\n",
       "  </thead>\n",
       "  <tbody>\n",
       "    <tr>\n",
       "      <th>25</th>\n",
       "      <td>0.26</td>\n",
       "      <td>-1113.069065</td>\n",
       "    </tr>\n",
       "  </tbody>\n",
       "</table>\n",
       "</div>"
      ],
      "text/plain": [
       "    alpha        error\n",
       "25   0.26 -1113.069065"
      ]
     },
     "execution_count": 16,
     "metadata": {},
     "output_type": "execute_result"
    }
   ],
   "source": [
    "df_lasso_error = pd.DataFrame(err, columns = [\"alpha\",\"error\"])\n",
    "df_lasso_error[df_lasso_error.error == max(df_lasso_error.error)]"
   ]
  },
  {
   "cell_type": "markdown",
   "metadata": {},
   "source": [
    "#### Random Forests"
   ]
  },
  {
   "cell_type": "code",
   "execution_count": 17,
   "metadata": {},
   "outputs": [
    {
     "data": {
      "text/plain": [
       "-572.2259001723535"
      ]
     },
     "execution_count": 17,
     "metadata": {},
     "output_type": "execute_result"
    }
   ],
   "source": [
    "rf =  RandomForestRegressor()\n",
    "np.mean(cross_val_score(rf, X, y, scoring =\"neg_mean_absolute_error\", cv= 5))\n",
    "\n"
   ]
  },
  {
   "cell_type": "code",
   "execution_count": 18,
   "metadata": {},
   "outputs": [
    {
     "data": {
      "text/plain": [
       "GridSearchCV(cv=3, error_score=nan,\n",
       "             estimator=RandomForestRegressor(bootstrap=True, ccp_alpha=0.0,\n",
       "                                             criterion='mse', max_depth=None,\n",
       "                                             max_features='auto',\n",
       "                                             max_leaf_nodes=None,\n",
       "                                             max_samples=None,\n",
       "                                             min_impurity_decrease=0.0,\n",
       "                                             min_impurity_split=None,\n",
       "                                             min_samples_leaf=1,\n",
       "                                             min_samples_split=2,\n",
       "                                             min_weight_fraction_leaf=0.0,\n",
       "                                             n_estimators=100, n_jobs=None,\n",
       "                                             oob_score=False, random_state=None,\n",
       "                                             verbose=0, warm_start=False),\n",
       "             iid='deprecated', n_jobs=None,\n",
       "             param_grid={'criterion': ['mae'],\n",
       "                         'max_features': ['auto', 'sqrt', 'log2'],\n",
       "                         'n_estimators': [50, 100, 200, 300, 500]},\n",
       "             pre_dispatch='2*n_jobs', refit=True, return_train_score=False,\n",
       "             scoring='neg_mean_absolute_error', verbose=0)"
      ]
     },
     "execution_count": 18,
     "metadata": {},
     "output_type": "execute_result"
    }
   ],
   "source": [
    "parameters = {\"n_estimators\":[50,100,200,300,500],'criterion':['mae'],'max_features':['auto','sqrt','log2']}\n",
    "gs  = GridSearchCV(rf, parameters, scoring = \"neg_mean_absolute_error\", cv = 3)\n",
    "gs.fit(X, y)\n"
   ]
  },
  {
   "cell_type": "code",
   "execution_count": 19,
   "metadata": {},
   "outputs": [
    {
     "data": {
      "text/plain": [
       "(-569.9901605209459,\n",
       " {'criterion': 'mae', 'max_features': 'log2', 'n_estimators': 100},\n",
       " RandomForestRegressor(bootstrap=True, ccp_alpha=0.0, criterion='mae',\n",
       "                       max_depth=None, max_features='log2', max_leaf_nodes=None,\n",
       "                       max_samples=None, min_impurity_decrease=0.0,\n",
       "                       min_impurity_split=None, min_samples_leaf=1,\n",
       "                       min_samples_split=2, min_weight_fraction_leaf=0.0,\n",
       "                       n_estimators=100, n_jobs=None, oob_score=False,\n",
       "                       random_state=None, verbose=0, warm_start=False))"
      ]
     },
     "execution_count": 19,
     "metadata": {},
     "output_type": "execute_result"
    }
   ],
   "source": [
    "gs.best_score_ ,gs.best_params_, gs.best_estimator_\n"
   ]
  },
  {
   "cell_type": "markdown",
   "metadata": {},
   "source": [
    "#### Random Forests with the above hyperparameter performs the best with an MAE of ~560 NNA. Any upcoming campaigns' NNA outcome can be predicted through this.\n"
   ]
  },
  {
   "cell_type": "code",
   "execution_count": null,
   "metadata": {},
   "outputs": [],
   "source": []
  }
 ],
 "metadata": {
  "kernelspec": {
   "display_name": "Python 3",
   "language": "python",
   "name": "python3"
  },
  "language_info": {
   "codemirror_mode": {
    "name": "ipython",
    "version": 3
   },
   "file_extension": ".py",
   "mimetype": "text/x-python",
   "name": "python",
   "nbconvert_exporter": "python",
   "pygments_lexer": "ipython3",
   "version": "3.7.6"
  }
 },
 "nbformat": 4,
 "nbformat_minor": 4
}
